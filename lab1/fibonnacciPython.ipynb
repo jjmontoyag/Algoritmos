{
 "cells": [
  {
   "cell_type": "code",
   "execution_count": 42,
   "metadata": {
    "collapsed": false,
    "scrolled": true
   },
   "outputs": [
    {
     "data": {
      "image/png": "[encoded data removed]"
     },
     "execution_count": 42,
     "metadata": {
     },
     "output_type": "execute_result"
    }
   ],
   "source": [
    "import numpy as np\n",
    "import time\n",
    "import matplotlib.pyplot as plot\n",
    "import itertools as itools\n",
    "\n",
    "fn = 0\n",
    "fn1 = 1\n",
    "fn2 = 0\n",
    "saved = 0\n",
    "timeUsed = []\n",
    "N = []\n",
    "timeNow = 0\n",
    "timeLast =0\n",
    "\n",
    "for j in range(1, 1200):\n",
    "    timeNow = time.time()\n",
    "    if j == 1:\n",
    "       saved = 0\n",
    "    if j == 2:\n",
    "       saved = 1\n",
    "    for i in range(0, j - 2):\n",
    "        fn = fn2 + fn1\n",
    "        saved = fn\n",
    "        fn2 = fn1\n",
    "        fn1 = fn\n",
    "    timeLast = time.time() - timeNow\n",
    "    timeUsed.append(timeLast)\n",
    "    N.append(j)\n",
    "    \n",
    "plot.bar(N, timeUsed)\n",
    "plot.ylim = 0.04\n",
    "plot.xlabel(\"Iteraciones\");\n",
    "plot.ylabel(\"Tiempo\");\n"
   ]
  },
  {
   "cell_type": "code",
   "execution_count": 0,
   "metadata": {
    "collapsed": false
   },
   "outputs": [
   ],
   "source": [
   ]
  }
 ],
 "metadata": {
  "kernelspec": {
   "display_name": "SageMath (stable)",
   "name": "sagemath"
  },
  "language_info": {
   "codemirror_mode": {
    "name": "ipython",
    "version": 2
   },
   "file_extension": ".py",
   "mimetype": "text/x-python",
   "name": "python",
   "nbconvert_exporter": "python",
   "pygments_lexer": "ipython2",
   "version": "2.7.15"
  }
 },
 "nbformat": 4,
 "nbformat_minor": 0
}
