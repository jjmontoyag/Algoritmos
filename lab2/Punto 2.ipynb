{
 "cells": [
  {
   "cell_type": "code",
   "execution_count": null,
   "metadata": {
    "scrolled": true
   },
   "outputs": [],
   "source": []
  },
  {
   "cell_type": "code",
   "execution_count": null,
   "metadata": {},
   "outputs": [],
   "source": []
  },
  {
   "cell_type": "markdown",
   "metadata": {},
   "source": [
    "<p><span style=\"color:blue\">Setup para asignar string para permutar por itertools y tamaño de arreglo para permutar por código Daniel Jiminez</span></p>\n"
   ]
  },
  {
   "cell_type": "code",
   "execution_count": 154,
   "metadata": {},
   "outputs": [],
   "source": [
    "#GLOBAL\n",
    "#string para itertools\n",
    "s = [1, 2, 3, 4, 5] # n = 8 max\n",
    "#tamaño para código Daniel\n",
    "d = len(s)\n",
    "\n",
    "from collections import Counter\n"
   ]
  },
  {
   "cell_type": "markdown",
   "metadata": {},
   "source": [
    "<h3>Código Daniel Jimenez</h3>\n"
   ]
  },
  {
   "cell_type": "code",
   "execution_count": 155,
   "metadata": {},
   "outputs": [],
   "source": [
    "#permutations se va a usar en todos los programas, global\n",
    "\n",
    "permutations = []\n",
    "def insertion_sort(A):\n",
    "    j = 1\n",
    "    while j < len(A):\n",
    "        key = A[j]\n",
    "        i = j - 1\n",
    "        while (i >= 0) and (A[i] > key):\n",
    "            A[i + 1] = A[i]\n",
    "            i = i -1\n",
    "        A[i + 1] = key\n",
    "        j = j + 1\n",
    "    return A\n",
    "\n",
    "def swap(v, i, j):\n",
    "    t = v[i] \n",
    "    v[i] = v[j]\n",
    "    v[j] = t\n",
    "\n",
    "def perm(v, i, n):\n",
    "    j = 0\n",
    "    k = 0\n",
    "    l = 0\n",
    "\n",
    "    if i == n:\n",
    "\n",
    "        #insertionsort\n",
    "       global permutations\n",
    "       permutations.append(v[:])\n",
    "\n",
    "    else:\n",
    "        for j in range(i, n):\n",
    "            swap(v, i, j)\n",
    "            perm(v, i+1, n)\n",
    "            swap(v, i, j)\n",
    "\n",
    "#setup            \n",
    "v = []\n",
    "for i in range(1, d + 1):\n",
    "    v.append(i)\n",
    "\n",
    "perm(v, 0, v[len(v) - 1])\n",
    "\n",
    "\n",
    "\n",
    "\n"
   ]
  },
  {
   "cell_type": "markdown",
   "metadata": {},
   "source": [
    "<h3>1.A Cálculo de promedio de lineas usando <span style=\"color:blue\">itertools</span></h3>"
   ]
  },
  {
   "cell_type": "code",
   "execution_count": 156,
   "metadata": {
    "scrolled": true
   },
   "outputs": [
    {
     "name": "stdout",
     "output_type": "stream",
     "text": [
      "(n=5) NUMERO PROMEDIO LINEAS USANDO ITERTOOLS:36\n"
     ]
    },
    {
     "data": {
      "image/png": "[encoded data removed]",
      "text/plain": [
       "<Figure size 432x288 with 1 Axes>"
      ]
     },
     "metadata": {},
     "output_type": "display_data"
    }
   ],
   "source": [
    "\n",
    "\n",
    "#NUMERO PROMEDIO DE LINEAS\n",
    "\n",
    "import itertools as it\n",
    "import matplotlib.pyplot as plt\n",
    "per = []\n",
    "stepsList = []\n",
    "\n",
    "#numero de lineas\n",
    "def isortSteps(a):\n",
    "    v = []\n",
    "    for i in range(len(a)):\n",
    "        v.append(a[i])\n",
    "        \n",
    "    steps = 0\n",
    "    for i in range(1,len(v)):\n",
    "        x = v[i]\n",
    "        j = i-1\n",
    "        while (j > -1) and (v[j] > x):\n",
    "            v[j+1] = v[j]\n",
    "            j = j -1\n",
    "            steps = steps + 3\n",
    "        steps = steps + 1\n",
    "        v[j+1] = x\n",
    "        steps = steps + 4\n",
    "    steps = steps + 1\n",
    "    return steps\n",
    "\n",
    "\n",
    "#usando itertools\n",
    "per = list(it.permutations(s, len(s)))\n",
    "runs = len(per)\n",
    "\n",
    "sum = 0\n",
    "for i in range(runs):\n",
    "    t = isortSteps(per[i])\n",
    "    stepsList.append(t)\n",
    "    sum = sum + t\n",
    "\n",
    "print '(n='+ str(d) + ')' + ' NUMERO PROMEDIO LINEAS USANDO ITERTOOLS:' + str(sum/runs)\n",
    "\n",
    "plt.hist(stepsList, bins=100);"
   ]
  },
  {
   "cell_type": "markdown",
   "metadata": {},
   "source": [
    "<h3>1.B Cálculo de promedio de lineas usando <span style=\"color:blue\">Daniel Jimenez</span></h3>"
   ]
  },
  {
   "cell_type": "code",
   "execution_count": 157,
   "metadata": {},
   "outputs": [
    {
     "name": "stdout",
     "output_type": "stream",
     "text": [
      "(n=5)NUMERO PROMEDIO LINEAS USANDO DANIEL JIMENEZ:36\n"
     ]
    },
    {
     "data": {
      "image/png": "[encoded data removed]",
      "text/plain": [
       "<Figure size 432x288 with 1 Axes>"
      ]
     },
     "metadata": {},
     "output_type": "display_data"
    }
   ],
   "source": [
    "sum = 0\n",
    "runs = len(permutations) \n",
    "\n",
    "for i in range(runs):\n",
    "    #\"permutaciones\" viene del código Daniel Jimenez\n",
    "    t = isortSteps(permutations[i])\n",
    "    stepsList.append(t)\n",
    "    sum = sum + t\n",
    "\n",
    "print '(n='+ str(d) + ')' + 'NUMERO PROMEDIO LINEAS USANDO DANIEL JIMENEZ:' + str(sum/runs)\n",
    "plt.hist(stepsList, bins=100);"
   ]
  },
  {
   "cell_type": "markdown",
   "metadata": {},
   "source": [
    "<h3>2.A Cálculo de promedio de comparaciones usando <span style=\"color:blue\">Itertools</span></h3>"
   ]
  },
  {
   "cell_type": "code",
   "execution_count": 158,
   "metadata": {},
   "outputs": [
    {
     "name": "stdout",
     "output_type": "stream",
     "text": [
      "(n=5)NUMERO PROMEDIO COMPARACIONES USANDO ITERTOOLS:9\n"
     ]
    },
    {
     "data": {
      "image/png": "[encoded data removed]",
      "text/plain": [
       "<Figure size 432x288 with 1 Axes>"
      ]
     },
     "metadata": {},
     "output_type": "display_data"
    }
   ],
   "source": [
    "#NUMERO PROMEDIO DE COMPARACIONES\n",
    "\n",
    "import itertools as it\n",
    "import matplotlib.pyplot as plt\n",
    "per = []\n",
    "stepsList = []\n",
    "\n",
    "def isortComp(a):\n",
    "    v = []\n",
    "    for i in range(len(a)):\n",
    "        v.append(a[i])\n",
    "        \n",
    "    comparaciones = 0\n",
    "    for i in range(1,len(v)):\n",
    "        x = v[i]\n",
    "        j = i-1\n",
    "        \n",
    "        while (j > -1) and (v[j] > x):\n",
    "            v[j+1] = v[j]\n",
    "            j = j -1\n",
    "            comparaciones = comparaciones + 1\n",
    "        comparaciones = comparaciones + 1\n",
    "        v[j+1] = x\n",
    "        \n",
    "    return comparaciones\n",
    "\n",
    "\n",
    "#usando tertools\n",
    "per = list(it.permutations(s, len(s)))\n",
    "runs = len(per)\n",
    "\n",
    "sum = 0\n",
    "for i in range(runs):\n",
    "    t = isortComp(per[i])\n",
    "    stepsList.append(t)\n",
    "    sum = sum + t\n",
    "\n",
    "print '(n='+ str(d) + ')' + 'NUMERO PROMEDIO COMPARACIONES USANDO ITERTOOLS:' + str(sum/runs)\n",
    "plt.hist(stepsList, bins=100);\n"
   ]
  },
  {
   "cell_type": "markdown",
   "metadata": {},
   "source": [
    "<h3>2.B Cálculo de promedio de comparaciones usando <span style=\"color:blue\">Daniel Jimenez</span></h3>"
   ]
  },
  {
   "cell_type": "code",
   "execution_count": 159,
   "metadata": {},
   "outputs": [
    {
     "name": "stdout",
     "output_type": "stream",
     "text": [
      "(n=5)NUMERO PROMEDIO COMPARACIONES USANDO DANIEL JIMENEZ:9\n"
     ]
    },
    {
     "data": {
      "image/png": "[encoded data removed]",
      "text/plain": [
       "<Figure size 432x288 with 1 Axes>"
      ]
     },
     "metadata": {},
     "output_type": "display_data"
    }
   ],
   "source": [
    "sum = 0\n",
    "runs = len(permutations) \n",
    "\n",
    "for i in range(runs):\n",
    "    #\"permutaciones\" viene del código Daniel Jimenez\n",
    "    t = isortComp(permutations[i])\n",
    "    stepsList.append(t)\n",
    "    sum = sum + t\n",
    "\n",
    "print '(n='+ str(d) + ')' + 'NUMERO PROMEDIO COMPARACIONES USANDO DANIEL JIMENEZ:' + str(sum/runs)\n",
    "plt.hist(stepsList, bins=100);"
   ]
  },
  {
   "cell_type": "markdown",
   "metadata": {},
   "source": [
    "<h3>3.A Cálculo de promedio de intercambios usando <span style=\"color:blue\">Itertools</span></h3>"
   ]
  },
  {
   "cell_type": "code",
   "execution_count": 160,
   "metadata": {},
   "outputs": [
    {
     "name": "stdout",
     "output_type": "stream",
     "text": [
      "(n=5)NUMERO PROMEDIO INTERCAMBIOS USANDO ITERTOOLS:5\n"
     ]
    },
    {
     "data": {
      "image/png": "[encoded data removed]",
      "text/plain": [
       "<Figure size 432x288 with 1 Axes>"
      ]
     },
     "metadata": {},
     "output_type": "display_data"
    }
   ],
   "source": [
    "#NUMERO PROMEDIO DE INTERCAMBIOS\n",
    "\n",
    "import itertools as it\n",
    "import matplotlib.pyplot as plt\n",
    "per = []\n",
    "stepsList = []\n",
    "\n",
    "def isortInter(a):\n",
    "    v = []\n",
    "    for i in range(len(a)):\n",
    "        v.append(a[i])\n",
    "        \n",
    "    intercambios = 0\n",
    "    for i in range(1,len(v)):\n",
    "        x = v[i]\n",
    "        j = i-1\n",
    "        \n",
    "        while (j > -1) and (v[j] > x):\n",
    "            v[j+1] = v[j]\n",
    "            j = j -1\n",
    "            intercambios = intercambios + 1\n",
    "        v[j+1] = x\n",
    "        \n",
    "    return intercambios\n",
    "\n",
    "\n",
    "#usando tertools\n",
    "per = list(it.permutations(s, len(s)))\n",
    "runs = len(per)\n",
    "\n",
    "sum = 0\n",
    "for i in range(runs):\n",
    "    t = isortInter(per[i])\n",
    "    stepsList.append(t)\n",
    "    sum = sum + t\n",
    "\n",
    "print '(n='+ str(d) + ')' + 'NUMERO PROMEDIO INTERCAMBIOS USANDO ITERTOOLS:' + str(sum/runs)\n",
    "plt.hist(stepsList, bins=100);"
   ]
  },
  {
   "cell_type": "markdown",
   "metadata": {},
   "source": [
    "<h3>3.B Cálculo de promedio de intercambios usando <span style=\"color:blue\">Daniel Jimenez</span></h3>"
   ]
  },
  {
   "cell_type": "code",
   "execution_count": 161,
   "metadata": {},
   "outputs": [
    {
     "name": "stdout",
     "output_type": "stream",
     "text": [
      "(n=5)NUMERO PROMEDIO INTERCAMBIOS USANDO DANIEL JIMENEZ:5\n"
     ]
    },
    {
     "data": {
      "image/png": "[encoded data removed]",
      "text/plain": [
       "<Figure size 432x288 with 1 Axes>"
      ]
     },
     "metadata": {},
     "output_type": "display_data"
    }
   ],
   "source": [
    "sum = 0\n",
    "runs = len(permutations) \n",
    "\n",
    "for i in range(runs):\n",
    "    #\"permutaciones\" viene del código Daniel Jimenez\n",
    "    t = isortInter(permutations[i])\n",
    "    stepsList.append(t)\n",
    "    sum = sum + t\n",
    "\n",
    "print '(n='+ str(d) + ')' + 'NUMERO PROMEDIO INTERCAMBIOS USANDO DANIEL JIMENEZ:' + str(sum/runs)\n",
    "plt.hist(stepsList, bins=100);"
   ]
  },
  {
   "cell_type": "markdown",
   "metadata": {},
   "source": [
    "<h3>4.A Cálculo de promedio de preguntas en while usando <span style=\"color:blue\">Itertools</span></h3>"
   ]
  },
  {
   "cell_type": "code",
   "execution_count": 162,
   "metadata": {},
   "outputs": [
    {
     "name": "stdout",
     "output_type": "stream",
     "text": [
      "(n=5)NUMERO PROMEDIO PREGUNTAS EN WHILE USANDO ITERTOOLS:9\n"
     ]
    },
    {
     "data": {
      "image/png": "[encoded data removed]",
      "text/plain": [
       "<Figure size 432x288 with 1 Axes>"
      ]
     },
     "metadata": {},
     "output_type": "display_data"
    }
   ],
   "source": [
    "#NUMERO PROMEDIO DE PREGUNTAS EN WHLE\n",
    "\n",
    "import itertools as it\n",
    "import matplotlib.pyplot as plt\n",
    "per = []\n",
    "stepsList = []\n",
    "\n",
    "def isortPreg(a):\n",
    "    v = []\n",
    "    for i in range(len(a)):\n",
    "        v.append(a[i])\n",
    "        \n",
    "    preguntas = 0\n",
    "    for i in range(1,len(v)):\n",
    "        x = v[i]\n",
    "        j = i-1\n",
    "        \n",
    "        while (j > -1) and (v[j] > x):\n",
    "            v[j+1] = v[j]\n",
    "            j = j -1\n",
    "            preguntas = preguntas + 1\n",
    "        preguntas = preguntas + 1\n",
    "        v[j+1] = x\n",
    "        \n",
    "    return preguntas\n",
    "\n",
    "\n",
    "#usando tertools\n",
    "per = list(it.permutations(s, len(s)))\n",
    "runs = len(per)\n",
    "\n",
    "sum = 0\n",
    "for i in range(runs):\n",
    "    t = isortPreg(per[i])\n",
    "    stepsList.append(t)\n",
    "    sum = sum + t\n",
    "\n",
    "print '(n='+ str(d) + ')' + 'NUMERO PROMEDIO PREGUNTAS EN WHILE USANDO ITERTOOLS:' + str(sum/runs)\n",
    "plt.hist(stepsList, bins=100);"
   ]
  },
  {
   "cell_type": "markdown",
   "metadata": {},
   "source": [
    "<h3>4.B Cálculo de promedio de preguntas usando <span style=\"color:blue\">Daniel Jimenez</span></h3>"
   ]
  },
  {
   "cell_type": "code",
   "execution_count": 163,
   "metadata": {},
   "outputs": [
    {
     "name": "stdout",
     "output_type": "stream",
     "text": [
      "(n=5)NUMERO PROMEDIO PREGUNTAS EN WHILE USANDO DANIEL JIMENEZ:9\n"
     ]
    },
    {
     "data": {
      "image/png": "[encoded data removed]",
      "text/plain": [
       "<Figure size 432x288 with 1 Axes>"
      ]
     },
     "metadata": {},
     "output_type": "display_data"
    }
   ],
   "source": [
    "sum = 0\n",
    "runs = len(permutations) \n",
    "\n",
    "for i in range(runs):\n",
    "    #\"permutaciones\" viene del código Daniel Jimenez\n",
    "    t = isortPreg(permutations[i])\n",
    "    stepsList.append(t)\n",
    "    sum = sum + t\n",
    "\n",
    "print '(n='+ str(d) + ')' + 'NUMERO PROMEDIO PREGUNTAS EN WHILE USANDO DANIEL JIMENEZ:' + str(sum/runs)\n",
    "plt.hist(stepsList, bins=100);\n"
   ]
  },
  {
   "cell_type": "code",
   "execution_count": null,
   "metadata": {},
   "outputs": [],
   "source": []
  }
 ],
 "metadata": {
  "kernelspec": {
   "display_name": "Python 2",
   "language": "python",
   "name": "python2"
  },
  "language_info": {
   "codemirror_mode": {
    "name": "ipython",
    "version": 2
   },
   "file_extension": ".py",
   "mimetype": "text/x-python",
   "name": "python",
   "nbconvert_exporter": "python",
   "pygments_lexer": "ipython2",
   "version": "2.7.15"
  }
 },
 "nbformat": 4,
 "nbformat_minor": 2
}
